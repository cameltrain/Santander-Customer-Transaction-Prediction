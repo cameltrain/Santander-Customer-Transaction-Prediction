{
 "cells": [
  {
   "cell_type": "markdown",
   "metadata": {},
   "source": []
  },
  {
   "cell_type": "code",
   "execution_count": 1,
   "metadata": {},
   "outputs": [],
   "source": [
    "import pandas as pd\n",
    "import xgboost as xgb\n",
    "import numpy as np"
   ]
  },
  {
   "cell_type": "code",
   "execution_count": 2,
   "metadata": {},
   "outputs": [],
   "source": [
    "df = pd.read_csv('../../data/train.csv',engine='python')\n",
    "df = df.drop(columns=['ID_code'])"
   ]
  },
  {
   "cell_type": "code",
   "execution_count": 3,
   "metadata": {},
   "outputs": [],
   "source": [
    "X = df.values[:,1:201]\n",
    "y = df.values[:,0]\n",
    "# rescale weight to make it same as test set\n",
    "weight = X[:,199] * float(X.shape[0]) / len(y)"
   ]
  },
  {
   "cell_type": "code",
   "execution_count": 4,
   "metadata": {},
   "outputs": [],
   "source": [
    "sum_wpos = sum( weight[i] for i in range(len(y)) if y[i] == 1.0  )\n",
    "sum_wneg = sum( weight[i] for i in range(len(y)) if y[i] == 0.0 )"
   ]
  },
  {
   "cell_type": "code",
   "execution_count": 5,
   "metadata": {},
   "outputs": [
    {
     "name": "stdout",
     "output_type": "stream",
     "text": [
      "weight statistics: wpos=-50893, wneg=-614414, ratio=12.0727\n"
     ]
    }
   ],
   "source": [
    "# print weight statistics\n",
    "print ('weight statistics: wpos=%g, wneg=%g, ratio=%g' % ( sum_wpos, sum_wneg, sum_wneg/sum_wpos ))"
   ]
  },
  {
   "cell_type": "markdown",
   "metadata": {},
   "source": [
    "Specify sufficient boosting iterations to reach a minimum"
   ]
  },
  {
   "cell_type": "code",
   "execution_count": 6,
   "metadata": {},
   "outputs": [],
   "source": [
    "sum_wpos = sum( weight[i] for i in range(len(y)) if y[i] == 1.0  )\n",
    "sum_wneg = sum( weight[i] for i in range(len(y)) if y[i] == 0.0 )"
   ]
  },
  {
   "cell_type": "code",
   "execution_count": 7,
   "metadata": {},
   "outputs": [],
   "source": [
    "num_round = 5000"
   ]
  },
  {
   "cell_type": "markdown",
   "metadata": {},
   "source": [
    "Leave most parameters as default"
   ]
  },
  {
   "cell_type": "code",
   "execution_count": 12,
   "metadata": {},
   "outputs": [],
   "source": [
    "param = {'tree_method': 'gpu_hist', # Use GPU accelerated algorithm\n",
    "         'objective': 'binary:logitraw', # Specify multiclass classification       \n",
    "         'eta':0.01,\n",
    "         'gamma':0.1,\n",
    "         'max_depth':10,\n",
    "         'min_child_weight':100,\n",
    "         'subsample':0.8,\n",
    "         'colsample_bytree':0.8,\n",
    "         'scale_pos_weight':sum_wneg/sum_wpos,#Control the balance of positive and negative weights, useful for unbalanced classes.\n",
    "         #'lambda':0,\n",
    "         #'alpha':0\n",
    "         'eval_metric':'auc',\n",
    "         'verbosity':3\n",
    "         }"
   ]
  },
  {
   "cell_type": "markdown",
   "metadata": {},
   "source": [
    "Convert input data from numpy to XGBoost format"
   ]
  },
  {
   "cell_type": "code",
   "execution_count": 13,
   "metadata": {},
   "outputs": [],
   "source": [
    "dtrain = xgb.DMatrix(X, label=y)"
   ]
  },
  {
   "cell_type": "code",
   "execution_count": null,
   "metadata": {},
   "outputs": [],
   "source": [
    "modelXGB = xgb.train(param, dtrain, num_round)"
   ]
  },
  {
   "cell_type": "code",
   "execution_count": null,
   "metadata": {},
   "outputs": [],
   "source": [
    "modelXGB.save_model('../../models/modelXGB5000_3.model')\n",
    "#joblib.dump(modelXGB, '../../models/modelXGB5000_1.pkl', compress=9)"
   ]
  },
  {
   "cell_type": "code",
   "execution_count": null,
   "metadata": {},
   "outputs": [],
   "source": [
    "#modelXGB = joblib.load('../../models/modelXGB5000_1.pkl')"
   ]
  },
  {
   "cell_type": "code",
   "execution_count": null,
   "metadata": {},
   "outputs": [],
   "source": [
    "df = pd.read_csv('../../data/test2.csv')\n",
    "#df = df.drop(columns=['ID_code'])\n",
    "data   = df.values[:,1:202]\n",
    "idx = df.values[:,0]"
   ]
  },
  {
   "cell_type": "code",
   "execution_count": null,
   "metadata": {},
   "outputs": [],
   "source": [
    "dtest = xgb.DMatrix(data)"
   ]
  },
  {
   "cell_type": "code",
   "execution_count": null,
   "metadata": {
    "scrolled": true
   },
   "outputs": [],
   "source": [
    "ypred = modelXGB.predict( dtest )"
   ]
  },
  {
   "cell_type": "code",
   "execution_count": null,
   "metadata": {},
   "outputs": [],
   "source": [
    "np.savetxt(\"../../data/submit9.csv\", ypred, delimiter=\",\")"
   ]
  },
  {
   "cell_type": "code",
   "execution_count": 95,
   "metadata": {},
   "outputs": [],
   "source": [
    "threshold_ratio = 0.15\n",
    "outfile = '../../data/submit8.csv'"
   ]
  },
  {
   "cell_type": "code",
   "execution_count": 96,
   "metadata": {},
   "outputs": [
    {
     "name": "stdout",
     "output_type": "stream",
     "text": [
      "finished writing into prediction file\n"
     ]
    }
   ],
   "source": [
    "res  = [ ( i, ypred[i] ) for i in range(len(ypred)) ]\n",
    "\n",
    "rorder = {}\n",
    "for k, v in sorted( res, key = lambda x:-x[1] ):\n",
    "    rorder[ k ] = len(rorder) + 1\n",
    "\n",
    "# write out predictions\n",
    "ntop = int( threshold_ratio * len(rorder ) )\n",
    "fo = open(outfile, 'w')\n",
    "nhit = 0\n",
    "ntot = 0\n",
    "fo.write('EventId,RankOrder,target\\n')\n",
    "for k, v in res:\n",
    "    if rorder[k] <= ntop:\n",
    "        lb = 1\n",
    "        nhit += 1\n",
    "    else:\n",
    "        lb = 0\n",
    "    # change output rank order to follow Kaggle convention\n",
    "    fo.write('%s,%d,%s\\n' % ( k,  len(rorder)+1-rorder[k], lb ) )\n",
    "    ntot += 1\n",
    "fo.close()\n",
    "\n",
    "print ('finished writing into prediction file')"
   ]
  },
  {
   "cell_type": "code",
   "execution_count": null,
   "metadata": {},
   "outputs": [],
   "source": []
  }
 ],
 "metadata": {
  "kernelspec": {
   "display_name": "Python 3",
   "language": "python",
   "name": "python3"
  },
  "language_info": {
   "codemirror_mode": {
    "name": "ipython",
    "version": 3
   },
   "file_extension": ".py",
   "mimetype": "text/x-python",
   "name": "python",
   "nbconvert_exporter": "python",
   "pygments_lexer": "ipython3",
   "version": "3.7.3"
  }
 },
 "nbformat": 4,
 "nbformat_minor": 2
}
